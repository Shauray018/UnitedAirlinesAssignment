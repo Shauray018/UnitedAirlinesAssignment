{
 "cells": [
  {
   "cell_type": "code",
   "execution_count": 1,
   "id": "f60e1bb5",
   "metadata": {},
   "outputs": [],
   "source": [
    "import pandas as pd"
   ]
  },
  {
   "cell_type": "code",
   "execution_count": 2,
   "id": "b7fe498d",
   "metadata": {},
   "outputs": [],
   "source": [
    "airports = pd.read_csv(\"data/Airports Data.csv\")\n",
    "bag_level = pd.read_csv(\"data/Bag+Level+Data.csv\")\n",
    "flight_level = pd.read_csv(\"data/Flight Level Data.csv\")\n",
    "pnr_remark_level = pd.read_csv(\"data/PNR Remark Level Data.csv\")\n",
    "pnr_flight_level = pd.read_csv(\"data/PNR+Flight+Level+Data.csv\")"
   ]
  },
  {
   "cell_type": "code",
   "execution_count": null,
   "id": "c29436af",
   "metadata": {},
   "outputs": [],
   "source": [
    "before_flight = len(flight_level)\n",
    "flight_level = flight_level.drop_duplicates(subset=['scheduled_departure_datetime_local', 'flight_number'], keep='first')\n",
    "print(f\"Removed {before_flight - len(flight_level)} duplicate rows based on scheduled_departure_datetime_local + flight_number\")\n",
    "\n",
    "# Remove fleet_type column\n",
    "if 'fleet_type' in flight_level.columns:\n",
    "    flight_level = flight_level.drop(columns=['fleet_type'])\n",
    "    print(\"Removed 'fleet_type' column\")\n",
    "\n",
    "# Remove true duplicates (all columns identical)\n",
    "before_true_dup = len(flight_level)\n",
    "flight_level = flight_level.drop_duplicates()\n",
    "print(f\"Removed {before_true_dup - len(flight_level)} true duplicate rows\")\n",
    "\n",
    "# Remove rows with any null values\n",
    "before_null = len(flight_level)\n",
    "flight_level = flight_level.dropna()\n",
    "print(f\"Removed {before_null - len(flight_level)} rows with null values\")\n",
    "print()\n"
   ]
  }
 ],
 "metadata": {
  "kernelspec": {
   "display_name": "Python (flight-env)",
   "language": "python",
   "name": "flight-env"
  },
  "language_info": {
   "codemirror_mode": {
    "name": "ipython",
    "version": 3
   },
   "file_extension": ".py",
   "mimetype": "text/x-python",
   "name": "python",
   "nbconvert_exporter": "python",
   "pygments_lexer": "ipython3",
   "version": "3.13.5"
  }
 },
 "nbformat": 4,
 "nbformat_minor": 5
}
